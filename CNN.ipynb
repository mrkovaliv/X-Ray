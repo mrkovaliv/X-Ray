{
 "cells": [
  {
   "cell_type": "code",
   "execution_count": 1,
   "metadata": {},
   "outputs": [
    {
     "name": "stderr",
     "output_type": "stream",
     "text": [
      "Using TensorFlow backend.\n"
     ]
    }
   ],
   "source": [
    "import numpy as np\n",
    "\n",
    "import os\n",
    "\n",
    "from keras.datasets import mnist\n",
    "from keras.models import Sequential\n",
    "from keras.layers import Dense\n",
    "from keras.utils import np_utils\n",
    "from keras.layers import Dense, Flatten, Activation\n",
    "from keras.layers import Dropout\n",
    "from keras.layers.convolutional import Conv2D, MaxPooling2D\n",
    "\n",
    "from keras.optimizers import SGD\n",
    "\n",
    "import cv2\n",
    "\n",
    "import sys"
   ]
  },
  {
   "cell_type": "code",
   "execution_count": 2,
   "metadata": {},
   "outputs": [],
   "source": [
    "#тут роблю numpy Array X_train і роблю всі зображення розміру 406/512\n",
    "\n",
    "pathName=\"\"\n",
    "\n",
    "X_train=[]\n",
    "i=0    \n",
    "for root, directories, filenames in os.walk('/home/volodymyr/MURA/XR_ELBOW'):\n",
    "    \n",
    "    for filename in filenames: \n",
    "        pathName=os.path.join(root,filename)\n",
    "        \n",
    "        orig_img = cv2.imread(pathName, 0)\n",
    "        \n",
    "        orig_img = cv2.resize(orig_img ,(406,512))\n",
    "        \n",
    "        X_train.append(orig_img)\n",
    "        \n",
    "X_train = np.array(X_train )\n",
    "\n",
    "        \n",
    "#тут роблю numpy Array Y_train\n",
    "pathName=\"\"\n",
    "y_train=[]\n",
    "\n",
    "for root, directories, filenames in os.walk('/home/volodymyr/MURA/XR_ELBOW_X'):\n",
    "    \n",
    "    for filename in filenames: \n",
    "        pathName=os.path.join(root,filename)\n",
    "        \n",
    "        file = np.loadtxt(pathName)\n",
    "        \n",
    "        y_train.append(file)\n",
    "        \n",
    "y_train = np.array(y_train )\n",
    "        \n",
    "        \n",
    "        \n",
    "        "
   ]
  },
  {
   "cell_type": "code",
   "execution_count": 3,
   "metadata": {},
   "outputs": [],
   "source": [
    "np.random.seed(42)\n",
    "\n",
    "\n",
    "\n",
    "X_train = X_train.reshape(4931,406,512,1)\n",
    "\n",
    "#print(X_train.shape)\n",
    "#X_train = X_train.astype('float')\n",
    "#X_train /= 255\n",
    "\n",
    "nb_classes=2\n",
    "\n",
    "img_rows, img_cols = 406,512\n",
    "batch_size = 32\n",
    "\n",
    "nb_epoch = 25\n",
    "Y_train = np_utils.to_categorical(y_train, nb_classes)\n",
    "\n",
    "model = Sequential()\n",
    "\n",
    "model.add(Conv2D(filters=32, kernel_size=(3, 3), padding='valid', input_shape=(406,512,1),\n",
    "                 activation='relu',data_format=\"channels_last\")) # (2)\n",
    "model.add(Conv2D(filters=32, kernel_size=(3, 3),\n",
    "                 activation='relu',data_format=\"channels_last\")) # (3)\n",
    "model.add(MaxPooling2D(pool_size=(2,2), data_format='channels_last')) # (4)\n",
    "model.add(Dropout(0.25)) \n",
    "#model.add(Conv2D(64, (3, 3), padding='valid', activation='relu',data_format=\"channels_last\")) # (5)\n",
    "#model.add(Conv2D(64, (3, 3), activation='relu',data_format=\"channels_last\")) # (6)\n",
    "#model.add(MaxPooling2D(pool_size=(2,2), data_format='channels_last')) # (7)\n",
    "#model.add(Dropout(0.25)) # Добавим слой регуляризации \n",
    "model.add(Flatten())\n",
    "model.add(Dense(207872, activation='relu')) # (8)\n",
    "model.add(Dropout(0.5)) # Добавим слой регуляризации \n",
    "model.add(Dense(2, activation='softmax')) # (9)\n",
    "\n",
    "sgd = SGD(lr=0.01, decay=1e-6, momentum=0.9, nesterov=True)\n",
    "#model.add(Dense(50, input_dim=207872, activation=\"relu\", kernel_initializer=\"normal\"))\n",
    "#model.add(Dense(2, activation=\"softmax\", kernel_initializer=\"normal\"))\n",
    "\n",
    "#print(model.summary())\n",
    "\n"
   ]
  },
  {
   "cell_type": "code",
   "execution_count": 5,
   "metadata": {},
   "outputs": [],
   "source": [
    "np.random.seed(42)\n",
    "\n",
    "\n",
    "\n",
    "X_train = X_train.reshape(4931,406,512,1)\n",
    "\n",
    "#print(X_train.shape)\n",
    "#X_train = X_train.astype('float')\n",
    "#X_train /= 255\n",
    "\n",
    "nb_classes=2\n",
    "\n",
    "img_rows, img_cols = 406,512\n",
    "batch_size = 32\n",
    "\n",
    "nb_epoch = 25\n",
    "Y_train = np_utils.to_categorical(y_train, nb_classes)\n",
    "\n",
    "model = Sequential()\n",
    "model.add(Conv2D(32, kernel_size=(3, 3),\n",
    "                 activation='relu',\n",
    "                 input_shape=(406,512,1)))\n",
    "model.add(Conv2D(64, (3, 3), activation='relu'))\n",
    "model.add(MaxPooling2D(pool_size=(2, 2)))\n",
    "model.add(Dropout(0.25))\n",
    "model.add(Flatten())\n",
    "model.add(Dense(207872, activation='relu'))\n",
    "model.add(Dropout(0.5))\n",
    "model.add(Dense(2, activation='softmax'))\n",
    "sgd = SGD(lr=0.01, decay=1e-6, momentum=0.9, nesterov=True)"
   ]
  },
  {
   "cell_type": "code",
   "execution_count": null,
   "metadata": {},
   "outputs": [
    {
     "name": "stdout",
     "output_type": "stream",
     "text": [
      "Train on 4437 samples, validate on 494 samples\n",
      "Epoch 1/1\n"
     ]
    }
   ],
   "source": [
    "#model.compile(loss=\"mean_absolute_error\", optimizer=\"SGD\", metrics=[\"accuracy\"])\n",
    "model.compile(loss='categorical_crossentropy',optimizer=sgd,metrics=['accuracy'])\n",
    "model.fit(X_train, Y_train, batch_size=10,epochs=1,validation_split=0.1,shuffle=True,verbose=1)\n",
    "\n",
    "#model.fit(X_train, Y_train, batch_size=300, epochs=1, validation_split=0.1, verbose=1)"
   ]
  },
  {
   "cell_type": "code",
   "execution_count": null,
   "metadata": {},
   "outputs": [],
   "source": []
  },
  {
   "cell_type": "code",
   "execution_count": null,
   "metadata": {},
   "outputs": [],
   "source": []
  },
  {
   "cell_type": "code",
   "execution_count": null,
   "metadata": {},
   "outputs": [],
   "source": []
  }
 ],
 "metadata": {
  "kernelspec": {
   "display_name": "Python 3",
   "language": "python",
   "name": "python3"
  },
  "language_info": {
   "codemirror_mode": {
    "name": "ipython",
    "version": 3
   },
   "file_extension": ".py",
   "mimetype": "text/x-python",
   "name": "python",
   "nbconvert_exporter": "python",
   "pygments_lexer": "ipython3",
   "version": "3.5.5"
  },
  "toc": {
   "base_numbering": 1,
   "nav_menu": {},
   "number_sections": true,
   "sideBar": true,
   "skip_h1_title": false,
   "title_cell": "Table of Contents",
   "title_sidebar": "Contents",
   "toc_cell": false,
   "toc_position": {},
   "toc_section_display": true,
   "toc_window_display": false
  },
  "varInspector": {
   "cols": {
    "lenName": 16,
    "lenType": 16,
    "lenVar": 40
   },
   "kernels_config": {
    "python": {
     "delete_cmd_postfix": "",
     "delete_cmd_prefix": "del ",
     "library": "var_list.py",
     "varRefreshCmd": "print(var_dic_list())"
    },
    "r": {
     "delete_cmd_postfix": ") ",
     "delete_cmd_prefix": "rm(",
     "library": "var_list.r",
     "varRefreshCmd": "cat(var_dic_list()) "
    }
   },
   "types_to_exclude": [
    "module",
    "function",
    "builtin_function_or_method",
    "instance",
    "_Feature"
   ],
   "window_display": false
  }
 },
 "nbformat": 4,
 "nbformat_minor": 2
}
